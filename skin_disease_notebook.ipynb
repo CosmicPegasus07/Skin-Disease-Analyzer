{
 "cells": [
  {
   "cell_type": "markdown",
   "id": "4ac1dec9",
   "metadata": {},
   "source": [
    "# SKIN-DISEASE-ANALYZER NOTEBOOK"
   ]
  },
  {
   "cell_type": "markdown",
   "id": "020ca0df",
   "metadata": {},
   "source": [
    "#### Importing Libraries"
   ]
  },
  {
   "cell_type": "code",
   "execution_count": 3,
   "id": "b6bd5978",
   "metadata": {},
   "outputs": [],
   "source": [
    "from keras.models import Model, load_model\n",
    "from keras.layers import Dense, GlobalAveragePooling2D, Flatten\n",
    "from keras.preprocessing.image import ImageDataGenerator\n",
    "from keras.utils import np_utils\n",
    "from keras.callbacks import ReduceLROnPlateau, CSVLogger, EarlyStopping, ModelCheckpoint\n",
    "import matplotlib.pyplot as plt\n",
    "from PIL import Image\n",
    "import numpy as np\n",
    "%matplotlib inline\n",
    "import scipy\n",
    "import tensorflow\n",
    "import scipy\n",
    "import tensorflow"
   ]
  },
  {
   "cell_type": "markdown",
   "id": "9967d0ca",
   "metadata": {},
   "source": [
    "#### Using VGG19 Transfer Learning Technique"
   ]
  },
  {
   "cell_type": "code",
   "execution_count": 2,
   "id": "2857ba4c",
   "metadata": {},
   "outputs": [],
   "source": [
    "base_model = tensorflow.keras.applications.VGG19(include_top=False, weights='imagenet', input_shape=(32,32,3))\n",
    "for layer in base_model.layers[:-5]:\n",
    "    layer.trainable = False\n",
    "\n",
    "output = base_model.output\n",
    "x = GlobalAveragePooling2D()(output)\n",
    "x = Dense(1024, activation='relu')(x)\n",
    "x = Dense(9, activation='softmax')(x)\n",
    "\n",
    "model = Model(inputs=base_model.input, outputs=x)"
   ]
  },
  {
   "cell_type": "markdown",
   "id": "66e6b97d",
   "metadata": {},
   "source": [
    "#### Feature Extraction"
   ]
  },
  {
   "cell_type": "code",
   "execution_count": 3,
   "id": "9ed6504b",
   "metadata": {},
   "outputs": [],
   "source": [
    "early_stopper = EarlyStopping(min_delta=0.001, patience=5)\n",
    "\n",
    "model_chkpt = ModelCheckpoint('skin_disease_model.h5',\n",
    "                              monitor='val_loss', verbose=1, \n",
    "                              save_best_only=True)\n",
    "batch_size = 16\n",
    "nb_classes = 9\n",
    "nb_epoch = 5\n",
    "data_augmentation = True\n",
    "\n",
    "# input image dimensions\n",
    "img_rows, img_cols = 32, 32\n",
    "# The CIFAR10 images are RGB.\n",
    "img_channels = 3\n",
    "train_path='dataFinalTry/train'\n",
    "test_path='dataFinalTry/test'\n",
    "# this is the augmentation configuration we will use for training\n",
    "train_datagen = ImageDataGenerator(\n",
    "    rescale=1./ 255,\n",
    "    shear_range=0.2,\n",
    "    zoom_range=0.2,\n",
    "    horizontal_flip=True)\n",
    "\n",
    "# this is the augmentation configuration we will use for testing:\n",
    "# only rescaling\n",
    "test_datagen = ImageDataGenerator(rescale=1./ 255)"
   ]
  },
  {
   "cell_type": "code",
   "execution_count": 4,
   "id": "0e64dc9e",
   "metadata": {},
   "outputs": [
    {
     "data": {
      "text/plain": [
       "9"
      ]
     },
     "execution_count": 4,
     "metadata": {},
     "output_type": "execute_result"
    }
   ],
   "source": [
    "classes = ['Acne On Body', 'Acne On Face', 'Acne On Forehead', 'Actinic Cheilitis', 'Alopecia Areata', 'Eczema Foot', 'Nail Fungal', 'Nose Rosacea', 'Raynauds Phenomenon']\n",
    "len(classes)"
   ]
  },
  {
   "cell_type": "code",
   "execution_count": 5,
   "id": "4dcafbed",
   "metadata": {},
   "outputs": [
    {
     "name": "stdout",
     "output_type": "stream",
     "text": [
      "Found 1608 images belonging to 9 classes.\n",
      "Found 148 images belonging to 9 classes.\n"
     ]
    }
   ],
   "source": [
    "train_data=train_datagen.flow_from_directory(train_path,classes=classes,target_size=(32,32),batch_size=16)\n",
    "test_data=test_datagen.flow_from_directory(test_path,classes=classes,target_size=(32,32),batch_size=16)"
   ]
  },
  {
   "cell_type": "markdown",
   "id": "fc40c2cb",
   "metadata": {},
   "source": [
    "#### Training"
   ]
  },
  {
   "cell_type": "code",
   "execution_count": 6,
   "id": "2313b86b",
   "metadata": {},
   "outputs": [],
   "source": [
    "model.compile(loss='categorical_crossentropy', optimizer='Adam', metrics=['accuracy'])"
   ]
  },
  {
   "cell_type": "code",
   "execution_count": 7,
   "id": "bb497575",
   "metadata": {
    "scrolled": false
   },
   "outputs": [
    {
     "name": "stderr",
     "output_type": "stream",
     "text": [
      "C:\\Users\\Sufiyan\\AppData\\Local\\Temp\\ipykernel_20248\\679521640.py:1: UserWarning: `Model.fit_generator` is deprecated and will be removed in a future version. Please use `Model.fit`, which supports generators.\n",
      "  history=model.fit_generator(train_data,\n"
     ]
    },
    {
     "name": "stdout",
     "output_type": "stream",
     "text": [
      "Epoch 1/30\n",
      "101/101 [==============================] - ETA: 0s - loss: 1.5517 - accuracy: 0.4310\n",
      "Epoch 1: val_loss improved from inf to 0.60824, saving model to model_vgg19_try.h5\n",
      "101/101 [==============================] - 31s 299ms/step - loss: 1.5517 - accuracy: 0.4310 - val_loss: 0.6082 - val_accuracy: 0.7770\n",
      "Epoch 2/30\n",
      "101/101 [==============================] - ETA: 0s - loss: 0.8433 - accuracy: 0.7376\n",
      "Epoch 2: val_loss improved from 0.60824 to 0.60187, saving model to model_vgg19_try.h5\n",
      "101/101 [==============================] - 24s 233ms/step - loss: 0.8433 - accuracy: 0.7376 - val_loss: 0.6019 - val_accuracy: 0.8041\n",
      "Epoch 3/30\n",
      "101/101 [==============================] - ETA: 0s - loss: 0.6402 - accuracy: 0.8147\n",
      "Epoch 3: val_loss improved from 0.60187 to 0.42913, saving model to model_vgg19_try.h5\n",
      "101/101 [==============================] - 23s 223ms/step - loss: 0.6402 - accuracy: 0.8147 - val_loss: 0.4291 - val_accuracy: 0.8784\n",
      "Epoch 4/30\n",
      "101/101 [==============================] - ETA: 0s - loss: 0.5050 - accuracy: 0.8576\n",
      "Epoch 4: val_loss did not improve from 0.42913\n",
      "101/101 [==============================] - 22s 218ms/step - loss: 0.5050 - accuracy: 0.8576 - val_loss: 0.5089 - val_accuracy: 0.8649\n",
      "Epoch 5/30\n",
      "101/101 [==============================] - ETA: 0s - loss: 0.4337 - accuracy: 0.8719\n",
      "Epoch 5: val_loss did not improve from 0.42913\n",
      "101/101 [==============================] - 22s 218ms/step - loss: 0.4337 - accuracy: 0.8719 - val_loss: 0.5462 - val_accuracy: 0.8243\n",
      "Epoch 6/30\n",
      "101/101 [==============================] - ETA: 0s - loss: 0.4206 - accuracy: 0.8831\n",
      "Epoch 6: val_loss improved from 0.42913 to 0.38928, saving model to model_vgg19_try.h5\n",
      "101/101 [==============================] - 22s 221ms/step - loss: 0.4206 - accuracy: 0.8831 - val_loss: 0.3893 - val_accuracy: 0.8986\n",
      "Epoch 7/30\n",
      "101/101 [==============================] - ETA: 0s - loss: 0.4525 - accuracy: 0.8794\n",
      "Epoch 7: val_loss did not improve from 0.38928\n",
      "101/101 [==============================] - 22s 219ms/step - loss: 0.4525 - accuracy: 0.8794 - val_loss: 0.4261 - val_accuracy: 0.8919\n",
      "Epoch 8/30\n",
      "101/101 [==============================] - ETA: 0s - loss: 0.3564 - accuracy: 0.9042\n",
      "Epoch 8: val_loss did not improve from 0.38928\n",
      "101/101 [==============================] - 22s 218ms/step - loss: 0.3564 - accuracy: 0.9042 - val_loss: 0.4134 - val_accuracy: 0.9324\n",
      "Epoch 9/30\n",
      "101/101 [==============================] - ETA: 0s - loss: 0.3513 - accuracy: 0.9011\n",
      "Epoch 9: val_loss improved from 0.38928 to 0.31145, saving model to model_vgg19_try.h5\n",
      "101/101 [==============================] - 22s 222ms/step - loss: 0.3513 - accuracy: 0.9011 - val_loss: 0.3114 - val_accuracy: 0.9257\n",
      "Epoch 10/30\n",
      "101/101 [==============================] - ETA: 0s - loss: 0.2905 - accuracy: 0.9241\n",
      "Epoch 10: val_loss improved from 0.31145 to 0.28666, saving model to model_vgg19_try.h5\n",
      "101/101 [==============================] - 23s 223ms/step - loss: 0.2905 - accuracy: 0.9241 - val_loss: 0.2867 - val_accuracy: 0.9122\n",
      "Epoch 11/30\n",
      "101/101 [==============================] - ETA: 0s - loss: 0.2586 - accuracy: 0.9272\n",
      "Epoch 11: val_loss did not improve from 0.28666\n",
      "101/101 [==============================] - 22s 219ms/step - loss: 0.2586 - accuracy: 0.9272 - val_loss: 0.3986 - val_accuracy: 0.9257\n",
      "Epoch 12/30\n",
      "101/101 [==============================] - ETA: 0s - loss: 0.2275 - accuracy: 0.9391\n",
      "Epoch 12: val_loss did not improve from 0.28666\n",
      "101/101 [==============================] - 22s 218ms/step - loss: 0.2275 - accuracy: 0.9391 - val_loss: 0.3166 - val_accuracy: 0.8851\n",
      "Epoch 13/30\n",
      "101/101 [==============================] - ETA: 0s - loss: 0.2075 - accuracy: 0.9440\n",
      "Epoch 13: val_loss improved from 0.28666 to 0.26735, saving model to model_vgg19_try.h5\n",
      "101/101 [==============================] - 22s 221ms/step - loss: 0.2075 - accuracy: 0.9440 - val_loss: 0.2674 - val_accuracy: 0.9459\n",
      "Epoch 14/30\n",
      "101/101 [==============================] - ETA: 0s - loss: 0.2543 - accuracy: 0.9303\n",
      "Epoch 14: val_loss did not improve from 0.26735\n",
      "101/101 [==============================] - 22s 218ms/step - loss: 0.2543 - accuracy: 0.9303 - val_loss: 0.3254 - val_accuracy: 0.9122\n",
      "Epoch 15/30\n",
      "101/101 [==============================] - ETA: 0s - loss: 0.2402 - accuracy: 0.9372\n",
      "Epoch 15: val_loss did not improve from 0.26735\n",
      "101/101 [==============================] - 22s 218ms/step - loss: 0.2402 - accuracy: 0.9372 - val_loss: 0.2873 - val_accuracy: 0.9122\n",
      "Epoch 16/30\n",
      "101/101 [==============================] - ETA: 0s - loss: 0.2200 - accuracy: 0.9359\n",
      "Epoch 16: val_loss did not improve from 0.26735\n",
      "101/101 [==============================] - 22s 219ms/step - loss: 0.2200 - accuracy: 0.9359 - val_loss: 0.4896 - val_accuracy: 0.9324\n",
      "Epoch 17/30\n",
      "101/101 [==============================] - ETA: 0s - loss: 0.2622 - accuracy: 0.9453\n",
      "Epoch 17: val_loss did not improve from 0.26735\n",
      "101/101 [==============================] - 23s 226ms/step - loss: 0.2622 - accuracy: 0.9453 - val_loss: 0.4127 - val_accuracy: 0.9189\n",
      "Epoch 18/30\n",
      "101/101 [==============================] - ETA: 0s - loss: 0.1619 - accuracy: 0.9558\n",
      "Epoch 18: val_loss did not improve from 0.26735\n",
      "101/101 [==============================] - 23s 225ms/step - loss: 0.1619 - accuracy: 0.9558 - val_loss: 0.3365 - val_accuracy: 0.9324\n",
      "Epoch 19/30\n",
      "101/101 [==============================] - ETA: 0s - loss: 0.1465 - accuracy: 0.9646\n",
      "Epoch 19: val_loss did not improve from 0.26735\n",
      "101/101 [==============================] - 23s 223ms/step - loss: 0.1465 - accuracy: 0.9646 - val_loss: 0.2758 - val_accuracy: 0.9527\n",
      "Epoch 20/30\n",
      "101/101 [==============================] - ETA: 0s - loss: 0.1931 - accuracy: 0.9490\n",
      "Epoch 20: val_loss did not improve from 0.26735\n",
      "101/101 [==============================] - 22s 220ms/step - loss: 0.1931 - accuracy: 0.9490 - val_loss: 0.2722 - val_accuracy: 0.9392\n",
      "Epoch 21/30\n",
      "101/101 [==============================] - ETA: 0s - loss: 0.1844 - accuracy: 0.9490\n",
      "Epoch 21: val_loss did not improve from 0.26735\n",
      "101/101 [==============================] - 27s 271ms/step - loss: 0.1844 - accuracy: 0.9490 - val_loss: 0.6849 - val_accuracy: 0.9189\n",
      "Epoch 22/30\n",
      "101/101 [==============================] - ETA: 0s - loss: 0.1934 - accuracy: 0.9552\n",
      "Epoch 22: val_loss did not improve from 0.26735\n",
      "101/101 [==============================] - 27s 264ms/step - loss: 0.1934 - accuracy: 0.9552 - val_loss: 0.4460 - val_accuracy: 0.9324\n",
      "Epoch 23/30\n",
      "101/101 [==============================] - ETA: 0s - loss: 0.2075 - accuracy: 0.9515\n",
      "Epoch 23: val_loss did not improve from 0.26735\n",
      "101/101 [==============================] - 25s 249ms/step - loss: 0.2075 - accuracy: 0.9515 - val_loss: 0.3348 - val_accuracy: 0.9257\n",
      "Epoch 24/30\n",
      "101/101 [==============================] - ETA: 0s - loss: 0.1495 - accuracy: 0.9558\n",
      "Epoch 24: val_loss did not improve from 0.26735\n",
      "101/101 [==============================] - 24s 240ms/step - loss: 0.1495 - accuracy: 0.9558 - val_loss: 0.4031 - val_accuracy: 0.9122\n",
      "Epoch 25/30\n",
      "101/101 [==============================] - ETA: 0s - loss: 0.1383 - accuracy: 0.9608\n",
      "Epoch 25: val_loss did not improve from 0.26735\n",
      "101/101 [==============================] - 24s 239ms/step - loss: 0.1383 - accuracy: 0.9608 - val_loss: 0.3162 - val_accuracy: 0.9459\n",
      "Epoch 26/30\n",
      "101/101 [==============================] - ETA: 0s - loss: 0.2037 - accuracy: 0.9496\n",
      "Epoch 26: val_loss did not improve from 0.26735\n",
      "101/101 [==============================] - 23s 223ms/step - loss: 0.2037 - accuracy: 0.9496 - val_loss: 0.2732 - val_accuracy: 0.9257\n",
      "Epoch 27/30\n",
      "101/101 [==============================] - ETA: 0s - loss: 0.1435 - accuracy: 0.9677\n",
      "Epoch 27: val_loss did not improve from 0.26735\n",
      "101/101 [==============================] - 23s 223ms/step - loss: 0.1435 - accuracy: 0.9677 - val_loss: 0.3903 - val_accuracy: 0.9392\n",
      "Epoch 28/30\n",
      "101/101 [==============================] - ETA: 0s - loss: 0.2067 - accuracy: 0.9478\n",
      "Epoch 28: val_loss did not improve from 0.26735\n",
      "101/101 [==============================] - 22s 219ms/step - loss: 0.2067 - accuracy: 0.9478 - val_loss: 0.5409 - val_accuracy: 0.9189\n",
      "Epoch 29/30\n",
      "101/101 [==============================] - ETA: 0s - loss: 0.2048 - accuracy: 0.9558\n",
      "Epoch 29: val_loss did not improve from 0.26735\n"
     ]
    },
    {
     "name": "stdout",
     "output_type": "stream",
     "text": [
      "101/101 [==============================] - 22s 219ms/step - loss: 0.2048 - accuracy: 0.9558 - val_loss: 0.6010 - val_accuracy: 0.9189\n",
      "Epoch 30/30\n",
      "101/101 [==============================] - ETA: 0s - loss: 0.1113 - accuracy: 0.9733\n",
      "Epoch 30: val_loss did not improve from 0.26735\n",
      "101/101 [==============================] - 23s 223ms/step - loss: 0.1113 - accuracy: 0.9733 - val_loss: 0.2997 - val_accuracy: 0.9324\n"
     ]
    }
   ],
   "source": [
    "history=model.fit_generator(train_data,\n",
    "                            validation_data=test_data,\n",
    "                            epochs=30,\n",
    "                            verbose=1, callbacks=[model_chkpt])"
   ]
  },
  {
   "cell_type": "markdown",
   "id": "d36d3242",
   "metadata": {},
   "source": [
    "As you can see we've got validation_loss of 0.26735\n",
    "with an accuracy of 94.59%"
   ]
  },
  {
   "cell_type": "markdown",
   "id": "fca00a56",
   "metadata": {},
   "source": [
    "#### Data Visualization"
   ]
  },
  {
   "cell_type": "code",
   "execution_count": 8,
   "id": "bda56c2c",
   "metadata": {},
   "outputs": [
    {
     "data": {
      "image/png": "[encoded data removed]",
      "text/plain": [
       "<Figure size 640x480 with 1 Axes>"
      ]
     },
     "metadata": {},
     "output_type": "display_data"
    },
    {
     "data": {
      "image/png": "[encoded data removed]",
      "text/plain": [
       "<Figure size 640x480 with 1 Axes>"
      ]
     },
     "metadata": {},
     "output_type": "display_data"
    }
   ],
   "source": [
    "plt.plot(history.history['accuracy'])\n",
    "plt.plot(history.history['val_accuracy'])\n",
    "plt.title('model accuracy')\n",
    "plt.ylabel('accuracy')\n",
    "plt.xlabel('epoch')\n",
    "plt.legend(['train', 'test'], loc='upper left')\n",
    "plt.show()\n",
    "# summarize history for loss\n",
    "plt.plot(history.history['loss'])\n",
    "plt.plot(history.history['val_loss'])\n",
    "plt.title('model loss')\n",
    "plt.ylabel('loss')\n",
    "plt.xlabel('epoch')\n",
    "plt.legend(['train', 'test'], loc='upper left')\n",
    "plt.show()"
   ]
  },
  {
   "cell_type": "code",
   "execution_count": 4,
   "id": "1f195094",
   "metadata": {},
   "outputs": [],
   "source": [
    "model = load_model('skin_disease_model.h5', compile=True)"
   ]
  },
  {
   "cell_type": "markdown",
   "id": "c74f1807",
   "metadata": {},
   "source": [
    "#### Testing Model"
   ]
  },
  {
   "cell_type": "code",
   "execution_count": 5,
   "id": "17eccdd0",
   "metadata": {},
   "outputs": [
    {
     "name": "stdout",
     "output_type": "stream",
     "text": [
      "1/1 [==============================] - 1s 518ms/step\n",
      "2\n"
     ]
    }
   ],
   "source": [
    "import cv2\n",
    "img = 'a.jpg'\n",
    "img = cv2.resize(cv2.imread(img), (32,32)) / 255.0\n",
    "prediction = model.predict(img.reshape(1,32,32,3))\n",
    "print(np.argmax(prediction))"
   ]
  },
  {
   "cell_type": "code",
   "execution_count": 13,
   "id": "4510842b",
   "metadata": {},
   "outputs": [],
   "source": [
    "import os"
   ]
  },
  {
   "cell_type": "code",
   "execution_count": 14,
   "id": "cb8d85eb",
   "metadata": {},
   "outputs": [
    {
     "data": {
      "text/plain": [
       "['Acne On Body',\n",
       " 'Acne On Face',\n",
       " 'Acne On Forehead',\n",
       " 'Actinic Cheilitis',\n",
       " 'Alopecia Areata',\n",
       " 'Eczema Foot',\n",
       " 'Nail Fungal',\n",
       " 'Nose Rosacea',\n",
       " 'Raynauds Phenomenon']"
      ]
     },
     "execution_count": 14,
     "metadata": {},
     "output_type": "execute_result"
    }
   ],
   "source": [
    "trainlist = os.listdir('dataFinal/train')\n",
    "trainlist"
   ]
  },
  {
   "cell_type": "code",
   "execution_count": 15,
   "id": "7de82d71",
   "metadata": {},
   "outputs": [
    {
     "data": {
      "text/plain": [
       "['Acne On body',\n",
       " 'Acne On Face',\n",
       " 'Acne On Forehead',\n",
       " 'Actinic Cheilitis',\n",
       " 'Alopecia Areata',\n",
       " 'Eczema Foot',\n",
       " 'Nail Fungal',\n",
       " 'Nose Rosacea',\n",
       " 'Raynauds Phenomenon']"
      ]
     },
     "execution_count": 15,
     "metadata": {},
     "output_type": "execute_result"
    }
   ],
   "source": [
    "testlist = os.listdir('dataFinal/test')\n",
    "testlist"
   ]
  },
  {
   "cell_type": "code",
   "execution_count": 14,
   "id": "d7ce95ce",
   "metadata": {},
   "outputs": [
    {
     "name": "stdout",
     "output_type": "stream",
     "text": [
      "1/1 [==============================] - 0s 144ms/step\n",
      "0\n",
      "1/1 [==============================] - 0s 28ms/step\n",
      "0\n",
      "1/1 [==============================] - 0s 28ms/step\n",
      "0\n",
      "1/1 [==============================] - 0s 30ms/step\n",
      "0\n",
      "1/1 [==============================] - 0s 21ms/step\n",
      "0\n",
      "1/1 [==============================] - 0s 31ms/step\n",
      "0\n",
      "1/1 [==============================] - 0s 31ms/step\n",
      "0\n",
      "1/1 [==============================] - 0s 28ms/step\n",
      "0\n",
      "1/1 [==============================] - 0s 28ms/step\n",
      "5\n",
      "1/1 [==============================] - 0s 23ms/step\n",
      "5\n",
      "1/1 [==============================] - 0s 27ms/step\n",
      "0\n",
      "1/1 [==============================] - 0s 28ms/step\n",
      "0\n",
      "1/1 [==============================] - 0s 27ms/step\n",
      "0\n",
      "1/1 [==============================] - 0s 28ms/step\n",
      "0\n",
      "1/1 [==============================] - 0s 27ms/step\n",
      "0\n",
      "1/1 [==============================] - 0s 29ms/step\n",
      "0\n",
      "1/1 [==============================] - 0s 29ms/step\n",
      "0\n",
      "1/1 [==============================] - 0s 30ms/step\n",
      "0\n",
      "1/1 [==============================] - 0s 28ms/step\n",
      "0\n",
      "1/1 [==============================] - 0s 28ms/step\n",
      "0\n"
     ]
    }
   ],
   "source": [
    "listbody = os.listdir('dataFinal/test/Acne On body')\n",
    "for i in range(len(listbody)):\n",
    "    l = listbody[i]\n",
    "    img = 'DataFinal/test/Acne On body/'+l\n",
    "    img = cv2.resize(cv2.imread(img), (32,32)) / 255.0\n",
    "    prediction = model.predict(img.reshape(1,32,32,3))\n",
    "    print(np.argmax(prediction))"
   ]
  },
  {
   "cell_type": "code",
   "execution_count": 15,
   "id": "26b2c7f8",
   "metadata": {},
   "outputs": [
    {
     "name": "stdout",
     "output_type": "stream",
     "text": [
      "1/1 [==============================] - 0s 27ms/step\n",
      "3\n",
      "1/1 [==============================] - 0s 29ms/step\n",
      "5\n",
      "1/1 [==============================] - 0s 28ms/step\n",
      "5\n",
      "1/1 [==============================] - 0s 14ms/step\n",
      "5\n",
      "1/1 [==============================] - 0s 28ms/step\n",
      "1\n",
      "1/1 [==============================] - 0s 22ms/step\n",
      "1\n",
      "1/1 [==============================] - 0s 28ms/step\n",
      "1\n",
      "1/1 [==============================] - 0s 28ms/step\n",
      "1\n",
      "1/1 [==============================] - 0s 27ms/step\n",
      "5\n",
      "1/1 [==============================] - 0s 28ms/step\n",
      "1\n",
      "1/1 [==============================] - 0s 28ms/step\n",
      "1\n",
      "1/1 [==============================] - 0s 28ms/step\n",
      "1\n",
      "1/1 [==============================] - 0s 28ms/step\n",
      "1\n",
      "1/1 [==============================] - 0s 28ms/step\n",
      "1\n",
      "1/1 [==============================] - 0s 27ms/step\n",
      "5\n",
      "1/1 [==============================] - 0s 27ms/step\n",
      "5\n",
      "1/1 [==============================] - 0s 29ms/step\n",
      "1\n",
      "1/1 [==============================] - 0s 29ms/step\n",
      "1\n"
     ]
    }
   ],
   "source": [
    "listbody = os.listdir('dataFinal/test/Acne On Face')\n",
    "for i in range(len(listbody)):\n",
    "    l = listbody[i]\n",
    "    img = 'DataFinal/test/Acne On Face/'+l\n",
    "    img = cv2.resize(cv2.imread(img), (32,32)) / 255.0\n",
    "    prediction = model.predict(img.reshape(1,32,32,3))\n",
    "    print(np.argmax(prediction))"
   ]
  },
  {
   "cell_type": "code",
   "execution_count": 16,
   "id": "67950bc6",
   "metadata": {},
   "outputs": [
    {
     "name": "stdout",
     "output_type": "stream",
     "text": [
      "1/1 [==============================] - 0s 29ms/step\n",
      "2\n",
      "1/1 [==============================] - 0s 29ms/step\n",
      "2\n",
      "1/1 [==============================] - 0s 23ms/step\n",
      "2\n",
      "1/1 [==============================] - 0s 27ms/step\n",
      "2\n",
      "1/1 [==============================] - 0s 28ms/step\n",
      "2\n",
      "1/1 [==============================] - 0s 29ms/step\n",
      "2\n",
      "1/1 [==============================] - 0s 28ms/step\n",
      "2\n",
      "1/1 [==============================] - 0s 21ms/step\n",
      "2\n",
      "1/1 [==============================] - 0s 26ms/step\n",
      "2\n",
      "1/1 [==============================] - 0s 28ms/step\n",
      "2\n",
      "1/1 [==============================] - 0s 28ms/step\n",
      "2\n",
      "1/1 [==============================] - 0s 28ms/step\n",
      "2\n",
      "1/1 [==============================] - 0s 29ms/step\n",
      "2\n",
      "1/1 [==============================] - 0s 29ms/step\n",
      "2\n",
      "1/1 [==============================] - 0s 29ms/step\n",
      "2\n",
      "1/1 [==============================] - 0s 27ms/step\n",
      "2\n",
      "1/1 [==============================] - 0s 27ms/step\n",
      "2\n",
      "1/1 [==============================] - 0s 28ms/step\n",
      "2\n"
     ]
    }
   ],
   "source": [
    "listbody = os.listdir('dataFinal/test/Acne On Forehead')\n",
    "for i in range(len(listbody)):\n",
    "    l = listbody[i]\n",
    "    img = 'DataFinal/test/Acne On Forehead/'+l\n",
    "    img = cv2.resize(cv2.imread(img), (32,32)) / 255.0\n",
    "    prediction = model.predict(img.reshape(1,32,32,3))\n",
    "    print(np.argmax(prediction))"
   ]
  },
  {
   "cell_type": "code",
   "execution_count": 17,
   "id": "d0caebf1",
   "metadata": {
    "scrolled": true
   },
   "outputs": [
    {
     "name": "stdout",
     "output_type": "stream",
     "text": [
      "1/1 [==============================] - 0s 26ms/step\n",
      "3\n",
      "1/1 [==============================] - 0s 27ms/step\n",
      "3\n",
      "1/1 [==============================] - 0s 26ms/step\n",
      "3\n",
      "1/1 [==============================] - 0s 27ms/step\n",
      "3\n",
      "1/1 [==============================] - 0s 29ms/step\n",
      "3\n",
      "1/1 [==============================] - 0s 29ms/step\n",
      "3\n",
      "1/1 [==============================] - 0s 29ms/step\n",
      "3\n",
      "1/1 [==============================] - 0s 26ms/step\n",
      "3\n",
      "1/1 [==============================] - 0s 28ms/step\n",
      "3\n",
      "1/1 [==============================] - 0s 28ms/step\n",
      "3\n",
      "1/1 [==============================] - 0s 29ms/step\n",
      "3\n",
      "1/1 [==============================] - 0s 28ms/step\n",
      "3\n",
      "1/1 [==============================] - 0s 27ms/step\n",
      "3\n",
      "1/1 [==============================] - 0s 27ms/step\n",
      "3\n",
      "1/1 [==============================] - 0s 28ms/step\n",
      "3\n",
      "1/1 [==============================] - 0s 29ms/step\n",
      "3\n",
      "1/1 [==============================] - 0s 29ms/step\n",
      "3\n",
      "1/1 [==============================] - 0s 29ms/step\n",
      "3\n"
     ]
    }
   ],
   "source": [
    "listbody = os.listdir('dataFinal/test/Actinic Cheilitis')\n",
    "for i in range(len(listbody)):\n",
    "    l = listbody[i]\n",
    "    img = 'DataFinal/test/Actinic Cheilitis/'+l\n",
    "    img = cv2.resize(cv2.imread(img), (32,32)) / 255.0\n",
    "    prediction = model.predict(img.reshape(1,32,32,3))\n",
    "    print(np.argmax(prediction))"
   ]
  },
  {
   "cell_type": "code",
   "execution_count": 18,
   "id": "e08b8c8b",
   "metadata": {},
   "outputs": [
    {
     "name": "stdout",
     "output_type": "stream",
     "text": [
      "1/1 [==============================] - 0s 28ms/step\n",
      "4\n",
      "1/1 [==============================] - 0s 28ms/step\n",
      "4\n",
      "1/1 [==============================] - 0s 27ms/step\n",
      "4\n",
      "1/1 [==============================] - 0s 28ms/step\n",
      "4\n",
      "1/1 [==============================] - 0s 27ms/step\n",
      "4\n",
      "1/1 [==============================] - 0s 28ms/step\n",
      "4\n",
      "1/1 [==============================] - 0s 28ms/step\n",
      "4\n",
      "1/1 [==============================] - 0s 23ms/step\n",
      "4\n",
      "1/1 [==============================] - 0s 27ms/step\n",
      "4\n",
      "1/1 [==============================] - 0s 23ms/step\n",
      "4\n",
      "1/1 [==============================] - 0s 26ms/step\n",
      "4\n",
      "1/1 [==============================] - 0s 27ms/step\n",
      "4\n",
      "1/1 [==============================] - 0s 27ms/step\n",
      "4\n",
      "1/1 [==============================] - 0s 30ms/step\n",
      "4\n",
      "1/1 [==============================] - 0s 29ms/step\n",
      "4\n",
      "1/1 [==============================] - 0s 27ms/step\n",
      "4\n",
      "1/1 [==============================] - 0s 30ms/step\n",
      "4\n",
      "1/1 [==============================] - 0s 28ms/step\n",
      "4\n",
      "1/1 [==============================] - 0s 28ms/step\n",
      "4\n",
      "1/1 [==============================] - 0s 28ms/step\n",
      "4\n"
     ]
    }
   ],
   "source": [
    "listbody = os.listdir('dataFinal/test/Alopecia Areata')\n",
    "for i in range(len(listbody)):\n",
    "    l = listbody[i]\n",
    "    img = 'DataFinal/test/Alopecia Areata/'+l\n",
    "    img = cv2.resize(cv2.imread(img), (32,32)) / 255.0\n",
    "    prediction = model.predict(img.reshape(1,32,32,3))\n",
    "    print(np.argmax(prediction))"
   ]
  },
  {
   "cell_type": "code",
   "execution_count": 26,
   "id": "a1d1af6d",
   "metadata": {},
   "outputs": [
    {
     "name": "stdout",
     "output_type": "stream",
     "text": [
      "1/1 [==============================] - 0s 48ms/step\n",
      "5\n",
      "1/1 [==============================] - 0s 40ms/step\n",
      "5\n",
      "1/1 [==============================] - 0s 57ms/step\n",
      "5\n",
      "1/1 [==============================] - 0s 56ms/step\n",
      "5\n",
      "1/1 [==============================] - 0s 64ms/step\n",
      "5\n",
      "1/1 [==============================] - 0s 56ms/step\n",
      "5\n",
      "1/1 [==============================] - 0s 80ms/step\n",
      "5\n",
      "1/1 [==============================] - 0s 48ms/step\n",
      "5\n",
      "1/1 [==============================] - 0s 48ms/step\n",
      "5\n",
      "1/1 [==============================] - 0s 56ms/step\n",
      "5\n",
      "1/1 [==============================] - 0s 56ms/step\n",
      "6\n",
      "1/1 [==============================] - 0s 56ms/step\n",
      "6\n",
      "1/1 [==============================] - 0s 57ms/step\n",
      "5\n",
      "1/1 [==============================] - 0s 64ms/step\n",
      "5\n",
      "1/1 [==============================] - 0s 56ms/step\n",
      "5\n",
      "1/1 [==============================] - 0s 40ms/step\n",
      "5\n"
     ]
    }
   ],
   "source": [
    "listbody = os.listdir('dataFinal/test/Eczema Foot')\n",
    "for i in range(len(listbody)):\n",
    "    l = listbody[i]\n",
    "    img = 'DataFinal/test/Eczema Foot/'+l\n",
    "    img = cv2.resize(cv2.imread(img), (32,32)) / 255.0\n",
    "    prediction = model.predict(img.reshape(1,32,32,3))\n",
    "    print(np.argmax(prediction))"
   ]
  },
  {
   "cell_type": "code",
   "execution_count": 27,
   "id": "18ea786f",
   "metadata": {},
   "outputs": [
    {
     "name": "stdout",
     "output_type": "stream",
     "text": [
      "1/1 [==============================] - 0s 40ms/step\n",
      "3\n",
      "1/1 [==============================] - 0s 63ms/step\n",
      "8\n",
      "1/1 [==============================] - 0s 55ms/step\n",
      "8\n",
      "1/1 [==============================] - 0s 65ms/step\n",
      "8\n",
      "1/1 [==============================] - 0s 56ms/step\n",
      "3\n",
      "1/1 [==============================] - 0s 56ms/step\n",
      "5\n",
      "1/1 [==============================] - 0s 49ms/step\n",
      "8\n",
      "1/1 [==============================] - 0s 48ms/step\n",
      "3\n",
      "1/1 [==============================] - 0s 49ms/step\n",
      "8\n",
      "1/1 [==============================] - 0s 66ms/step\n",
      "5\n",
      "1/1 [==============================] - 0s 49ms/step\n",
      "5\n",
      "1/1 [==============================] - 0s 57ms/step\n",
      "8\n",
      "1/1 [==============================] - 0s 66ms/step\n",
      "6\n",
      "1/1 [==============================] - 0s 49ms/step\n",
      "5\n",
      "1/1 [==============================] - 0s 46ms/step\n",
      "5\n",
      "1/1 [==============================] - 0s 40ms/step\n",
      "5\n",
      "1/1 [==============================] - 0s 48ms/step\n",
      "5\n",
      "1/1 [==============================] - 0s 45ms/step\n",
      "8\n"
     ]
    }
   ],
   "source": [
    "listbody = os.listdir('dataFinal/test/Nail Fungal')\n",
    "for i in range(len(listbody)):\n",
    "    l = listbody[i]\n",
    "    img = 'DataFinal/test/Nail Fungal/'+l\n",
    "    img = cv2.resize(cv2.imread(img), (32,32)) / 255.0\n",
    "    prediction = model.predict(img.reshape(1,32,32,3))\n",
    "    print(np.argmax(prediction))"
   ]
  },
  {
   "cell_type": "code",
   "execution_count": 28,
   "id": "4ec85119",
   "metadata": {},
   "outputs": [
    {
     "name": "stdout",
     "output_type": "stream",
     "text": [
      "1/1 [==============================] - 0s 40ms/step\n",
      "7\n",
      "1/1 [==============================] - 0s 40ms/step\n",
      "7\n",
      "1/1 [==============================] - 0s 48ms/step\n",
      "7\n",
      "1/1 [==============================] - 0s 48ms/step\n",
      "7\n",
      "1/1 [==============================] - 0s 56ms/step\n",
      "7\n",
      "1/1 [==============================] - 0s 48ms/step\n",
      "7\n",
      "1/1 [==============================] - 0s 40ms/step\n",
      "7\n",
      "1/1 [==============================] - 0s 56ms/step\n",
      "7\n",
      "1/1 [==============================] - 0s 56ms/step\n",
      "7\n",
      "1/1 [==============================] - 0s 48ms/step\n",
      "7\n",
      "1/1 [==============================] - 0s 49ms/step\n",
      "7\n",
      "1/1 [==============================] - 0s 49ms/step\n",
      "7\n",
      "1/1 [==============================] - 0s 40ms/step\n",
      "7\n",
      "1/1 [==============================] - 0s 47ms/step\n",
      "7\n",
      "1/1 [==============================] - 0s 40ms/step\n",
      "7\n",
      "1/1 [==============================] - 0s 32ms/step\n",
      "7\n",
      "1/1 [==============================] - 0s 49ms/step\n",
      "7\n",
      "1/1 [==============================] - 0s 48ms/step\n",
      "7\n",
      "1/1 [==============================] - 0s 40ms/step\n",
      "7\n",
      "1/1 [==============================] - 0s 40ms/step\n",
      "7\n",
      "1/1 [==============================] - 0s 41ms/step\n",
      "7\n"
     ]
    }
   ],
   "source": [
    "listbody = os.listdir('dataFinal/test/Nose Rosacea')\n",
    "for i in range(len(listbody)):\n",
    "    l = listbody[i]\n",
    "    img = 'DataFinal/test/Nose Rosacea/'+l\n",
    "    img = cv2.resize(cv2.imread(img), (32,32)) / 255.0\n",
    "    prediction = model.predict(img.reshape(1,32,32,3))\n",
    "    print(np.argmax(prediction))"
   ]
  },
  {
   "cell_type": "code",
   "execution_count": 29,
   "id": "f2ae5391",
   "metadata": {},
   "outputs": [
    {
     "name": "stdout",
     "output_type": "stream",
     "text": [
      "1/1 [==============================] - 0s 57ms/step\n",
      "8\n",
      "1/1 [==============================] - 0s 40ms/step\n",
      "8\n",
      "1/1 [==============================] - 0s 48ms/step\n",
      "3\n",
      "1/1 [==============================] - 0s 58ms/step\n",
      "8\n",
      "1/1 [==============================] - 0s 56ms/step\n",
      "8\n",
      "1/1 [==============================] - 0s 57ms/step\n",
      "8\n",
      "1/1 [==============================] - 0s 80ms/step\n",
      "8\n",
      "1/1 [==============================] - 0s 57ms/step\n",
      "8\n",
      "1/1 [==============================] - 0s 50ms/step\n",
      "8\n",
      "1/1 [==============================] - 0s 48ms/step\n",
      "8\n",
      "1/1 [==============================] - 0s 47ms/step\n",
      "8\n",
      "1/1 [==============================] - 0s 56ms/step\n",
      "8\n",
      "1/1 [==============================] - 0s 48ms/step\n",
      "8\n",
      "1/1 [==============================] - 0s 32ms/step\n",
      "8\n",
      "1/1 [==============================] - 0s 40ms/step\n",
      "8\n",
      "1/1 [==============================] - 0s 32ms/step\n",
      "8\n",
      "1/1 [==============================] - 0s 32ms/step\n",
      "8\n",
      "1/1 [==============================] - 0s 40ms/step\n",
      "8\n",
      "1/1 [==============================] - 0s 41ms/step\n",
      "8\n",
      "1/1 [==============================] - 0s 33ms/step\n",
      "8\n",
      "1/1 [==============================] - 0s 35ms/step\n",
      "8\n"
     ]
    }
   ],
   "source": [
    "listbody = os.listdir('dataFinal/test/Raynauds Phenomenon')\n",
    "for i in range(len(listbody)):\n",
    "    l = listbody[i]\n",
    "    img = 'DataFinal/test/Raynauds Phenomenon/'+l\n",
    "    img = cv2.resize(cv2.imread(img), (32,32)) / 255.0\n",
    "    prediction = model.predict(img.reshape(1,32,32,3))\n",
    "    print(np.argmax(prediction))"
   ]
  },
  {
   "cell_type": "code",
   "execution_count": null,
   "id": "f46762f5",
   "metadata": {},
   "outputs": [],
   "source": []
  }
 ],
 "metadata": {
  "kernelspec": {
   "display_name": "Python 3 (ipykernel)",
   "language": "python",
   "name": "python3"
  },
  "language_info": {
   "codemirror_mode": {
    "name": "ipython",
    "version": 3
   },
   "file_extension": ".py",
   "mimetype": "text/x-python",
   "name": "python",
   "nbconvert_exporter": "python",
   "pygments_lexer": "ipython3",
   "version": "3.9.15"
  }
 },
 "nbformat": 4,
 "nbformat_minor": 5
}
