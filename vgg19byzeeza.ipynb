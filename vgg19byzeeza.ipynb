{
 "cells": [
  {
   "cell_type": "code",
   "execution_count": 25,
   "id": "b6bd5978",
   "metadata": {},
   "outputs": [],
   "source": [
    "from keras.applications.vgg19 import VGG19\n",
    "from keras.models import Model, load_model\n",
    "from keras.layers import Dense, GlobalAveragePooling2D, Flatten\n",
    "from keras.preprocessing.image import ImageDataGenerator\n",
    "from keras.utils import np_utils\n",
    "from keras.callbacks import ReduceLROnPlateau, CSVLogger, EarlyStopping, ModelCheckpoint\n",
    "import matplotlib.pyplot as plt\n",
    "from PIL import Image\n",
    "import numpy as np\n",
    "%matplotlib inline"
   ]
  },
  {
   "cell_type": "code",
   "execution_count": 17,
   "id": "2857ba4c",
   "metadata": {},
   "outputs": [],
   "source": [
    "base_model = VGG19(include_top=False, weights='imagenet', input_shape=(32,32,3))\n",
    "for layer in base_model.layers[:-5]:\n",
    "    layer.trainable = False\n",
    "\n",
    "output = base_model.output\n",
    "x = GlobalAveragePooling2D()(output)\n",
    "x = Dense(1024, activation='relu')(x)\n",
    "x = Dense(13, activation='softmax')(x)\n",
    "\n",
    "model = Model(inputs=base_model.input, outputs=x)"
   ]
  },
  {
   "cell_type": "code",
   "execution_count": 19,
   "id": "9ed6504b",
   "metadata": {},
   "outputs": [],
   "source": [
    "lr_reducer = ReduceLROnPlateau(factor=np.sqrt(0.1), cooldown=0, patience=5, min_lr=0.5e-6)\n",
    "early_stopper = EarlyStopping(min_delta=0.001, patience=5)\n",
    "\n",
    "model_chkpt = ModelCheckpoint('skeez.h5',\n",
    "                              monitor='val_loss', verbose=1, \n",
    "                              save_best_only=True)\n",
    "batch_size = 32\n",
    "nb_classes = 23\n",
    "nb_epoch = 20\n",
    "data_augmentation = True\n",
    "\n",
    "# input image dimensions\n",
    "img_rows, img_cols = 32, 32\n",
    "# The CIFAR10 images are RGB.\n",
    "img_channels = 3\n",
    "train_path='dataaaaaa/train'\n",
    "test_path='dataaaaaa/test'\n",
    "# this is the augmentation configuration we will use for training\n",
    "train_datagen = ImageDataGenerator(\n",
    "    rescale=1./ 255,\n",
    "    shear_range=0.2,\n",
    "    zoom_range=0.2,\n",
    "    horizontal_flip=True)\n",
    "\n",
    "# this is the augmentation configuration we will use for testing:\n",
    "# only rescaling\n",
    "test_datagen = ImageDataGenerator(rescale=1./ 255)"
   ]
  },
  {
   "cell_type": "code",
   "execution_count": 20,
   "id": "0e64dc9e",
   "metadata": {},
   "outputs": [
    {
     "data": {
      "text/plain": [
       "13"
      ]
     },
     "execution_count": 20,
     "metadata": {},
     "output_type": "execute_result"
    }
   ],
   "source": [
    "classes = ['Acne','Actnic Cheilitis','Basal Cell Carcinoma','Eczema Photos','Hair Disease','Nail Fungal','Psoriasis Hair','Rosacea',' Scabies',' Seborrheic Keratoses','Skin Cancer','Tinea Ringworm Candidiasis','Warts Molluscum']\n",
    "len(classes)"
   ]
  },
  {
   "cell_type": "code",
   "execution_count": 21,
   "id": "4dcafbed",
   "metadata": {},
   "outputs": [
    {
     "name": "stdout",
     "output_type": "stream",
     "text": [
      "Found 4222 images belonging to 13 classes.\n",
      "Found 569 images belonging to 13 classes.\n"
     ]
    }
   ],
   "source": [
    "train_data=train_datagen.flow_from_directory(train_path,classes=classes,target_size=(32,32),batch_size=16)\n",
    "test_data=test_datagen.flow_from_directory(test_path,classes=classes,target_size=(32,32),batch_size=16)"
   ]
  },
  {
   "cell_type": "code",
   "execution_count": 22,
   "id": "2313b86b",
   "metadata": {},
   "outputs": [],
   "source": [
    "model.compile(loss='categorical_crossentropy', optimizer='adam', metrics=['accuracy'])"
   ]
  },
  {
   "cell_type": "code",
   "execution_count": 24,
   "id": "bb497575",
   "metadata": {
    "scrolled": false
   },
   "outputs": [
    {
     "name": "stdout",
     "output_type": "stream",
     "text": [
      "Epoch 1/50\n",
      "264/264 [==============================] - 16s 58ms/step - loss: 1.0407 - accuracy: 0.6606 - val_loss: 1.0867 - val_accuracy: 0.6221\n",
      "\n",
      "Epoch 00001: val_loss improved from 1.09295 to 1.08674, saving model to skeez.h5\n",
      "Epoch 2/50\n",
      "264/264 [==============================] - 14s 53ms/step - loss: 1.0276 - accuracy: 0.6611 - val_loss: 1.1586 - val_accuracy: 0.6520\n",
      "\n",
      "Epoch 00002: val_loss did not improve from 1.08674\n",
      "Epoch 3/50\n",
      "264/264 [==============================] - 15s 58ms/step - loss: 1.0246 - accuracy: 0.6649 - val_loss: 0.9746 - val_accuracy: 0.6819\n",
      "\n",
      "Epoch 00003: val_loss improved from 1.08674 to 0.97462, saving model to skeez.h5\n",
      "Epoch 4/50\n",
      "264/264 [==============================] - 15s 57ms/step - loss: 0.9682 - accuracy: 0.6833 - val_loss: 0.9883 - val_accuracy: 0.6573\n",
      "\n",
      "Epoch 00004: val_loss did not improve from 0.97462\n",
      "Epoch 5/50\n",
      "264/264 [==============================] - 15s 57ms/step - loss: 0.9426 - accuracy: 0.6923 - val_loss: 0.9555 - val_accuracy: 0.6573\n",
      "\n",
      "Epoch 00005: val_loss improved from 0.97462 to 0.95554, saving model to skeez.h5\n",
      "Epoch 6/50\n",
      "264/264 [==============================] - 13s 50ms/step - loss: 0.9282 - accuracy: 0.6916 - val_loss: 1.0129 - val_accuracy: 0.6837\n",
      "\n",
      "Epoch 00006: val_loss did not improve from 0.95554\n",
      "Epoch 7/50\n",
      "264/264 [==============================] - 13s 51ms/step - loss: 0.9000 - accuracy: 0.7070 - val_loss: 0.9887 - val_accuracy: 0.7030\n",
      "\n",
      "Epoch 00007: val_loss did not improve from 0.95554\n",
      "Epoch 8/50\n",
      "264/264 [==============================] - 13s 51ms/step - loss: 0.9008 - accuracy: 0.7065 - val_loss: 0.9057 - val_accuracy: 0.7083\n",
      "\n",
      "Epoch 00008: val_loss improved from 0.95554 to 0.90565, saving model to skeez.h5\n",
      "Epoch 9/50\n",
      "264/264 [==============================] - 13s 49ms/step - loss: 0.9261 - accuracy: 0.7037 - val_loss: 0.8690 - val_accuracy: 0.7276\n",
      "\n",
      "Epoch 00009: val_loss improved from 0.90565 to 0.86903, saving model to skeez.h5\n",
      "Epoch 10/50\n",
      "264/264 [==============================] - 18s 67ms/step - loss: 0.8820 - accuracy: 0.7103 - val_loss: 0.9139 - val_accuracy: 0.6960\n",
      "\n",
      "Epoch 00010: val_loss did not improve from 0.86903\n",
      "Epoch 11/50\n",
      "264/264 [==============================] - 16s 62ms/step - loss: 0.8374 - accuracy: 0.7236 - val_loss: 0.7942 - val_accuracy: 0.7258\n",
      "\n",
      "Epoch 00011: val_loss improved from 0.86903 to 0.79424, saving model to skeez.h5\n",
      "Epoch 12/50\n",
      "264/264 [==============================] - 16s 61ms/step - loss: 0.8080 - accuracy: 0.7338 - val_loss: 0.9824 - val_accuracy: 0.6678\n",
      "\n",
      "Epoch 00012: val_loss did not improve from 0.79424\n",
      "Epoch 13/50\n",
      "264/264 [==============================] - 16s 62ms/step - loss: 0.8036 - accuracy: 0.7276 - val_loss: 0.7553 - val_accuracy: 0.7381\n",
      "\n",
      "Epoch 00013: val_loss improved from 0.79424 to 0.75531, saving model to skeez.h5\n",
      "Epoch 14/50\n",
      "264/264 [==============================] - 17s 66ms/step - loss: 0.7936 - accuracy: 0.7390 - val_loss: 0.8148 - val_accuracy: 0.7381\n",
      "\n",
      "Epoch 00014: val_loss did not improve from 0.75531\n",
      "Epoch 15/50\n",
      "264/264 [==============================] - 17s 62ms/step - loss: 0.7565 - accuracy: 0.7489 - val_loss: 0.8822 - val_accuracy: 0.6924\n",
      "\n",
      "Epoch 00015: val_loss did not improve from 0.75531\n",
      "Epoch 16/50\n",
      "264/264 [==============================] - 17s 64ms/step - loss: 0.7535 - accuracy: 0.7494 - val_loss: 0.7471 - val_accuracy: 0.7557\n",
      "\n",
      "Epoch 00016: val_loss improved from 0.75531 to 0.74706, saving model to skeez.h5\n",
      "Epoch 17/50\n",
      "264/264 [==============================] - 17s 64ms/step - loss: 0.7540 - accuracy: 0.7466 - val_loss: 0.7556 - val_accuracy: 0.7540\n",
      "\n",
      "Epoch 00017: val_loss did not improve from 0.74706\n",
      "Epoch 18/50\n",
      "264/264 [==============================] - 17s 64ms/step - loss: 0.7338 - accuracy: 0.7539 - val_loss: 0.7410 - val_accuracy: 0.7786\n",
      "\n",
      "Epoch 00018: val_loss improved from 0.74706 to 0.74100, saving model to skeez.h5\n",
      "Epoch 19/50\n",
      "264/264 [==============================] - 18s 67ms/step - loss: 0.7366 - accuracy: 0.7570 - val_loss: 0.8081 - val_accuracy: 0.7680\n",
      "\n",
      "Epoch 00019: val_loss did not improve from 0.74100\n",
      "Epoch 20/50\n",
      "264/264 [==============================] - 17s 66ms/step - loss: 0.7065 - accuracy: 0.7639 - val_loss: 0.6574 - val_accuracy: 0.7979\n",
      "\n",
      "Epoch 00020: val_loss improved from 0.74100 to 0.65740, saving model to skeez.h5\n",
      "Epoch 21/50\n",
      "264/264 [==============================] - 17s 63ms/step - loss: 0.6873 - accuracy: 0.7724 - val_loss: 0.7200 - val_accuracy: 0.7750\n",
      "\n",
      "Epoch 00021: val_loss did not improve from 0.65740\n",
      "Epoch 22/50\n",
      "264/264 [==============================] - 16s 62ms/step - loss: 0.6742 - accuracy: 0.7776 - val_loss: 0.8820 - val_accuracy: 0.7223\n",
      "\n",
      "Epoch 00022: val_loss did not improve from 0.65740\n",
      "Epoch 23/50\n",
      "264/264 [==============================] - 16s 62ms/step - loss: 0.7294 - accuracy: 0.7662 - val_loss: 0.6406 - val_accuracy: 0.7944\n",
      "\n",
      "Epoch 00023: val_loss improved from 0.65740 to 0.64064, saving model to skeez.h5\n",
      "Epoch 24/50\n",
      "264/264 [==============================] - 17s 63ms/step - loss: 0.6362 - accuracy: 0.7899 - val_loss: 0.6946 - val_accuracy: 0.8049\n",
      "\n",
      "Epoch 00024: val_loss did not improve from 0.64064\n",
      "Epoch 25/50\n",
      "264/264 [==============================] - 16s 62ms/step - loss: 0.6368 - accuracy: 0.7875 - val_loss: 0.7092 - val_accuracy: 0.7909\n",
      "\n",
      "Epoch 00025: val_loss did not improve from 0.64064\n",
      "Epoch 26/50\n",
      "264/264 [==============================] - 16s 62ms/step - loss: 0.6433 - accuracy: 0.7930 - val_loss: 0.6342 - val_accuracy: 0.7944\n",
      "\n",
      "Epoch 00026: val_loss improved from 0.64064 to 0.63416, saving model to skeez.h5\n",
      "Epoch 27/50\n",
      "264/264 [==============================] - 16s 62ms/step - loss: 0.6486 - accuracy: 0.7866 - val_loss: 0.6107 - val_accuracy: 0.8120\n",
      "\n",
      "Epoch 00027: val_loss improved from 0.63416 to 0.61066, saving model to skeez.h5\n",
      "Epoch 28/50\n",
      "264/264 [==============================] - 17s 66ms/step - loss: 0.6047 - accuracy: 0.8044 - val_loss: 0.6768 - val_accuracy: 0.7944\n",
      "\n",
      "Epoch 00028: val_loss did not improve from 0.61066\n",
      "Epoch 29/50\n",
      "264/264 [==============================] - 17s 64ms/step - loss: 0.6208 - accuracy: 0.7977 - val_loss: 0.6272 - val_accuracy: 0.8102\n",
      "\n",
      "Epoch 00029: val_loss did not improve from 0.61066\n",
      "Epoch 30/50\n",
      "264/264 [==============================] - 17s 63ms/step - loss: 0.6146 - accuracy: 0.7980 - val_loss: 0.6082 - val_accuracy: 0.8243\n",
      "\n",
      "Epoch 00030: val_loss improved from 0.61066 to 0.60818, saving model to skeez.h5\n",
      "Epoch 31/50\n",
      "264/264 [==============================] - 16s 62ms/step - loss: 0.5839 - accuracy: 0.8131 - val_loss: 0.6059 - val_accuracy: 0.8137\n",
      "\n",
      "Epoch 00031: val_loss improved from 0.60818 to 0.60586, saving model to skeez.h5\n",
      "Epoch 32/50\n",
      "264/264 [==============================] - 16s 62ms/step - loss: 0.5732 - accuracy: 0.8157 - val_loss: 0.5314 - val_accuracy: 0.8348\n",
      "\n",
      "Epoch 00032: val_loss improved from 0.60586 to 0.53138, saving model to skeez.h5\n",
      "Epoch 33/50\n",
      "264/264 [==============================] - 16s 62ms/step - loss: 0.5650 - accuracy: 0.8202 - val_loss: 0.6340 - val_accuracy: 0.8084\n",
      "\n",
      "Epoch 00033: val_loss did not improve from 0.53138\n",
      "Epoch 34/50\n",
      "264/264 [==============================] - 16s 62ms/step - loss: 0.5941 - accuracy: 0.8091 - val_loss: 0.6858 - val_accuracy: 0.7891\n",
      "\n",
      "Epoch 00034: val_loss did not improve from 0.53138\n",
      "Epoch 35/50\n",
      "264/264 [==============================] - 17s 64ms/step - loss: 0.5745 - accuracy: 0.8141 - val_loss: 0.5192 - val_accuracy: 0.8295\n",
      "\n",
      "Epoch 00035: val_loss improved from 0.53138 to 0.51916, saving model to skeez.h5\n",
      "Epoch 36/50\n",
      "264/264 [==============================] - 17s 65ms/step - loss: 0.5702 - accuracy: 0.8148 - val_loss: 0.5576 - val_accuracy: 0.8330\n",
      "\n",
      "Epoch 00036: val_loss did not improve from 0.51916\n",
      "Epoch 37/50\n",
      "264/264 [==============================] - 17s 64ms/step - loss: 0.5346 - accuracy: 0.8264 - val_loss: 0.5605 - val_accuracy: 0.8102\n",
      "\n",
      "Epoch 00037: val_loss did not improve from 0.51916\n",
      "Epoch 38/50\n",
      "264/264 [==============================] - 17s 64ms/step - loss: 0.5890 - accuracy: 0.8081 - val_loss: 0.5586 - val_accuracy: 0.8155\n",
      "\n",
      "Epoch 00038: val_loss did not improve from 0.51916\n",
      "Epoch 39/50\n",
      "264/264 [==============================] - 16s 61ms/step - loss: 0.5082 - accuracy: 0.8314 - val_loss: 0.4567 - val_accuracy: 0.8436\n",
      "\n",
      "Epoch 00039: val_loss improved from 0.51916 to 0.45673, saving model to skeez.h5\n"
     ]
    },
    {
     "name": "stdout",
     "output_type": "stream",
     "text": [
      "Epoch 40/50\n",
      "264/264 [==============================] - 17s 63ms/step - loss: 0.5175 - accuracy: 0.8330 - val_loss: 0.5252 - val_accuracy: 0.8436\n",
      "\n",
      "Epoch 00040: val_loss did not improve from 0.45673\n",
      "Epoch 41/50\n",
      "264/264 [==============================] - 21s 78ms/step - loss: 0.5355 - accuracy: 0.8297 - val_loss: 0.6041 - val_accuracy: 0.8155\n",
      "\n",
      "Epoch 00041: val_loss did not improve from 0.45673\n",
      "Epoch 42/50\n",
      "264/264 [==============================] - 38s 142ms/step - loss: 0.5096 - accuracy: 0.8285 - val_loss: 0.5303 - val_accuracy: 0.8207\n",
      "\n",
      "Epoch 00042: val_loss did not improve from 0.45673\n",
      "Epoch 43/50\n",
      "264/264 [==============================] - 22s 82ms/step - loss: 0.5157 - accuracy: 0.8344 - val_loss: 0.5406 - val_accuracy: 0.8401\n",
      "\n",
      "Epoch 00043: val_loss did not improve from 0.45673\n",
      "Epoch 44/50\n",
      "264/264 [==============================] - 16s 62ms/step - loss: 0.5021 - accuracy: 0.8340 - val_loss: 0.6044 - val_accuracy: 0.8155\n",
      "\n",
      "Epoch 00044: val_loss did not improve from 0.45673\n",
      "Epoch 45/50\n",
      "264/264 [==============================] - 16s 62ms/step - loss: 0.3841 - accuracy: 0.8773 - val_loss: 0.4991 - val_accuracy: 0.8629\n",
      "\n",
      "Epoch 00045: val_loss did not improve from 0.45673\n",
      "Epoch 46/50\n",
      "264/264 [==============================] - 16s 60ms/step - loss: 0.3697 - accuracy: 0.8787 - val_loss: 0.4691 - val_accuracy: 0.8629\n",
      "\n",
      "Epoch 00046: val_loss did not improve from 0.45673\n",
      "Epoch 47/50\n",
      "264/264 [==============================] - 16s 62ms/step - loss: 0.3376 - accuracy: 0.8868 - val_loss: 0.4878 - val_accuracy: 0.8647\n",
      "\n",
      "Epoch 00047: val_loss did not improve from 0.45673\n",
      "Epoch 48/50\n",
      "264/264 [==============================] - 16s 60ms/step - loss: 0.3290 - accuracy: 0.8842 - val_loss: 0.4127 - val_accuracy: 0.8699\n",
      "\n",
      "Epoch 00048: val_loss improved from 0.45673 to 0.41272, saving model to skeez.h5\n",
      "Epoch 49/50\n",
      "264/264 [==============================] - 17s 63ms/step - loss: 0.3195 - accuracy: 0.8929 - val_loss: 0.4356 - val_accuracy: 0.8717\n",
      "\n",
      "Epoch 00049: val_loss did not improve from 0.41272\n",
      "Epoch 50/50\n",
      "264/264 [==============================] - 16s 62ms/step - loss: 0.3096 - accuracy: 0.8967 - val_loss: 0.4479 - val_accuracy: 0.8805\n",
      "\n",
      "Epoch 00050: val_loss did not improve from 0.41272\n"
     ]
    }
   ],
   "source": [
    "history=model.fit_generator(train_data,\n",
    "                            validation_data=test_data,\n",
    "                            epochs=50,\n",
    "                            verbose=1, callbacks=[lr_reducer, model_chkpt])"
   ]
  },
  {
   "cell_type": "code",
   "execution_count": 25,
   "id": "99df2bd8",
   "metadata": {},
   "outputs": [],
   "source": [
    "model.save('skeez.h5')"
   ]
  },
  {
   "cell_type": "code",
   "execution_count": 8,
   "id": "f5897f79",
   "metadata": {},
   "outputs": [
    {
     "name": "stdout",
     "output_type": "stream",
     "text": [
      "Epoch 1/30\n",
      "124/124 [==============================] - 27s 211ms/step - loss: 1.1234 - accuracy: 0.5884 - val_loss: 1.5325 - val_accuracy: 0.4886\n",
      "\n",
      "Epoch 00001: val_loss did not improve from 1.37419\n",
      "Epoch 2/30\n",
      "124/124 [==============================] - 26s 211ms/step - loss: 1.1100 - accuracy: 0.5975 - val_loss: 1.3979 - val_accuracy: 0.5283\n",
      "\n",
      "Epoch 00002: val_loss did not improve from 1.37419\n",
      "Epoch 3/30\n",
      "124/124 [==============================] - 25s 205ms/step - loss: 1.0894 - accuracy: 0.6064 - val_loss: 1.4622 - val_accuracy: 0.5263\n",
      "\n",
      "Epoch 00003: val_loss did not improve from 1.37419\n",
      "Epoch 4/30\n",
      "124/124 [==============================] - 25s 204ms/step - loss: 1.0729 - accuracy: 0.6121 - val_loss: 1.5179 - val_accuracy: 0.5055\n",
      "\n",
      "Epoch 00004: val_loss did not improve from 1.37419\n",
      "Epoch 5/30\n",
      "124/124 [==============================] - 25s 204ms/step - loss: 1.0398 - accuracy: 0.6255 - val_loss: 1.4154 - val_accuracy: 0.5322\n",
      "\n",
      "Epoch 00005: val_loss did not improve from 1.37419\n",
      "Epoch 6/30\n",
      "124/124 [==============================] - 25s 198ms/step - loss: 1.0339 - accuracy: 0.6231 - val_loss: 1.4827 - val_accuracy: 0.5084\n",
      "\n",
      "Epoch 00006: val_loss did not improve from 1.37419\n",
      "Epoch 7/30\n",
      "124/124 [==============================] - 25s 203ms/step - loss: 1.0048 - accuracy: 0.6426 - val_loss: 1.4847 - val_accuracy: 0.5327\n",
      "\n",
      "Epoch 00007: val_loss did not improve from 1.37419\n",
      "Epoch 8/30\n",
      "124/124 [==============================] - 25s 204ms/step - loss: 0.8717 - accuracy: 0.6893 - val_loss: 1.4307 - val_accuracy: 0.5441\n",
      "\n",
      "Epoch 00008: val_loss did not improve from 1.37419\n",
      "Epoch 9/30\n",
      "124/124 [==============================] - 25s 202ms/step - loss: 0.8183 - accuracy: 0.7110 - val_loss: 1.4307 - val_accuracy: 0.5570\n",
      "\n",
      "Epoch 00009: val_loss did not improve from 1.37419\n",
      "Epoch 10/30\n",
      "124/124 [==============================] - 25s 201ms/step - loss: 0.7796 - accuracy: 0.7202 - val_loss: 1.4278 - val_accuracy: 0.5595\n",
      "\n",
      "Epoch 00010: val_loss did not improve from 1.37419\n",
      "Epoch 11/30\n",
      "124/124 [==============================] - 25s 203ms/step - loss: 0.7752 - accuracy: 0.7225 - val_loss: 1.4496 - val_accuracy: 0.5625\n",
      "\n",
      "Epoch 00011: val_loss did not improve from 1.37419\n",
      "Epoch 12/30\n",
      "124/124 [==============================] - 25s 204ms/step - loss: 0.7459 - accuracy: 0.7333 - val_loss: 1.4635 - val_accuracy: 0.5749\n",
      "\n",
      "Epoch 00012: val_loss did not improve from 1.37419\n",
      "Epoch 13/30\n",
      "124/124 [==============================] - 25s 200ms/step - loss: 0.6796 - accuracy: 0.7578 - val_loss: 1.4985 - val_accuracy: 0.5660\n",
      "\n",
      "Epoch 00013: val_loss did not improve from 1.37419\n",
      "Epoch 14/30\n",
      "124/124 [==============================] - 25s 204ms/step - loss: 0.6643 - accuracy: 0.7640 - val_loss: 1.5289 - val_accuracy: 0.5694\n",
      "\n",
      "Epoch 00014: val_loss did not improve from 1.37419\n",
      "Epoch 15/30\n",
      "124/124 [==============================] - 25s 201ms/step - loss: 0.6534 - accuracy: 0.7691 - val_loss: 1.5337 - val_accuracy: 0.5685\n",
      "\n",
      "Epoch 00015: val_loss did not improve from 1.37419\n",
      "Epoch 16/30\n",
      "124/124 [==============================] - 25s 203ms/step - loss: 0.6389 - accuracy: 0.7712 - val_loss: 1.5617 - val_accuracy: 0.5729\n",
      "\n",
      "Epoch 00016: val_loss did not improve from 1.37419\n",
      "Epoch 17/30\n",
      "124/124 [==============================] - 25s 204ms/step - loss: 0.6298 - accuracy: 0.7767 - val_loss: 1.5533 - val_accuracy: 0.5714\n",
      "\n",
      "Epoch 00017: val_loss did not improve from 1.37419\n",
      "Epoch 18/30\n",
      "124/124 [==============================] - 25s 202ms/step - loss: 0.6201 - accuracy: 0.7806 - val_loss: 1.5818 - val_accuracy: 0.5660\n",
      "\n",
      "Epoch 00018: val_loss did not improve from 1.37419\n",
      "Epoch 19/30\n",
      "124/124 [==============================] - 25s 199ms/step - loss: 0.6100 - accuracy: 0.7870 - val_loss: 1.6095 - val_accuracy: 0.5680\n",
      "\n",
      "Epoch 00019: val_loss did not improve from 1.37419\n",
      "Epoch 20/30\n",
      "124/124 [==============================] - 25s 200ms/step - loss: 0.6013 - accuracy: 0.7831 - val_loss: 1.5987 - val_accuracy: 0.5704\n",
      "\n",
      "Epoch 00020: val_loss did not improve from 1.37419\n",
      "Epoch 21/30\n",
      "124/124 [==============================] - 25s 201ms/step - loss: 0.5989 - accuracy: 0.7909 - val_loss: 1.6098 - val_accuracy: 0.5689\n",
      "\n",
      "Epoch 00021: val_loss did not improve from 1.37419\n",
      "Epoch 22/30\n",
      "124/124 [==============================] - 28s 225ms/step - loss: 0.5901 - accuracy: 0.7913 - val_loss: 1.6198 - val_accuracy: 0.5709\n",
      "\n",
      "Epoch 00022: val_loss did not improve from 1.37419\n",
      "Epoch 23/30\n",
      "124/124 [==============================] - 31s 247ms/step - loss: 0.5846 - accuracy: 0.7908 - val_loss: 1.6373 - val_accuracy: 0.5704\n",
      "\n",
      "Epoch 00023: val_loss did not improve from 1.37419\n",
      "Epoch 24/30\n",
      "124/124 [==============================] - 26s 211ms/step - loss: 0.5733 - accuracy: 0.8009 - val_loss: 1.6431 - val_accuracy: 0.5694\n",
      "\n",
      "Epoch 00024: val_loss did not improve from 1.37419\n",
      "Epoch 25/30\n",
      "124/124 [==============================] - 25s 205ms/step - loss: 0.5705 - accuracy: 0.8012 - val_loss: 1.6411 - val_accuracy: 0.5685\n",
      "\n",
      "Epoch 00025: val_loss did not improve from 1.37419\n",
      "Epoch 26/30\n",
      "124/124 [==============================] - 26s 208ms/step - loss: 0.5758 - accuracy: 0.7953 - val_loss: 1.6424 - val_accuracy: 0.5704\n",
      "\n",
      "Epoch 00026: val_loss did not improve from 1.37419\n",
      "Epoch 27/30\n",
      "124/124 [==============================] - 28s 226ms/step - loss: 0.5894 - accuracy: 0.7913 - val_loss: 1.6330 - val_accuracy: 0.5724\n",
      "\n",
      "Epoch 00027: val_loss did not improve from 1.37419\n",
      "Epoch 28/30\n",
      "124/124 [==============================] - 26s 206ms/step - loss: 0.5759 - accuracy: 0.7920 - val_loss: 1.6340 - val_accuracy: 0.5734\n",
      "\n",
      "Epoch 00028: val_loss did not improve from 1.37419\n",
      "Epoch 29/30\n",
      "124/124 [==============================] - 25s 201ms/step - loss: 0.5799 - accuracy: 0.7958 - val_loss: 1.6377 - val_accuracy: 0.5734\n",
      "\n",
      "Epoch 00029: val_loss did not improve from 1.37419\n",
      "Epoch 30/30\n",
      "124/124 [==============================] - 29s 237ms/step - loss: 0.5635 - accuracy: 0.8043 - val_loss: 1.6400 - val_accuracy: 0.5734\n",
      "\n",
      "Epoch 00030: val_loss did not improve from 1.37419\n"
     ]
    }
   ],
   "source": [
    "model = load_model('vgg19.h5', compile='True')\n",
    "history=model.fit_generator(train_data,steps_per_epoch=124,validation_data=test_data,validation_steps=33,epochs=30,verbose=1, callbacks=[lr_reducer, model_chkpt])\n",
    "model.save('final_vgg19.h5')"
   ]
  },
  {
   "cell_type": "code",
   "execution_count": 13,
   "id": "bda56c2c",
   "metadata": {},
   "outputs": [
    {
     "data": {
      "image/png": "[encoded data removed]",
      "text/plain": [
       "<Figure size 640x480 with 1 Axes>"
      ]
     },
     "metadata": {},
     "output_type": "display_data"
    },
    {
     "data": {
      "image/png": "[encoded data removed]",
      "text/plain": [
       "<Figure size 640x480 with 1 Axes>"
      ]
     },
     "metadata": {},
     "output_type": "display_data"
    }
   ],
   "source": [
    "plt.plot(history.history['accuracy'])\n",
    "plt.plot(history.history['val_accuracy'])\n",
    "plt.title('model accuracy')\n",
    "plt.ylabel('accuracy')\n",
    "plt.xlabel('epoch')\n",
    "plt.legend(['train', 'test'], loc='upper left')\n",
    "plt.show()\n",
    "# summarize history for loss\n",
    "plt.plot(history.history['loss'])\n",
    "plt.plot(history.history['val_loss'])\n",
    "plt.title('model loss')\n",
    "plt.ylabel('loss')\n",
    "plt.xlabel('epoch')\n",
    "plt.legend(['train', 'test'], loc='upper left')\n",
    "plt.show()"
   ]
  },
  {
   "cell_type": "code",
   "execution_count": 47,
   "id": "d94d638e",
   "metadata": {},
   "outputs": [],
   "source": [
    "model = load_model('vgg19.h5', compile=True)"
   ]
  },
  {
   "cell_type": "code",
   "execution_count": 30,
   "id": "d47b1e6f",
   "metadata": {},
   "outputs": [
    {
     "name": "stdout",
     "output_type": "stream",
     "text": [
      "2\n"
     ]
    }
   ],
   "source": [
    "import cv2\n",
    "img = 'dataaaaaa/test/Basal Cell Carcinoma/basal-cell-carcinoma-pigmented-51.jpg'\n",
    "img = cv2.resize(cv2.imread(img), (32,32)) / 255.0\n",
    "prediction = model.predict(img.reshape(1,32,32,3))\n",
    "print(np.argmax(prediction))"
   ]
  },
  {
   "cell_type": "code",
   "execution_count": 58,
   "id": "3b7bdf2d",
   "metadata": {},
   "outputs": [],
   "source": [
    "i = cv2.imread('data/test/Actinic Keratosis Basal Cell Carcinoma and other Malignant Lesions/actinic-keratosis-5FU-13.jpg')\n",
    "  \n",
    "# Displaying the image\n",
    "cv2.imshow('image', i)"
   ]
  },
  {
   "cell_type": "code",
   "execution_count": 27,
   "id": "17eccdd0",
   "metadata": {},
   "outputs": [
    {
     "name": "stdout",
     "output_type": "stream",
     "text": [
      "5\n"
     ]
    }
   ],
   "source": [
    "import cv2\n",
    "img = 'data/test/Nail Fungus and other Nail Disease/habit-tic-deformity-19.jpg'\n",
    "img = cv2.resize(cv2.imread(img), (32,32)) / 255.0\n",
    "prediction = model.predict(img.reshape(1,32,32,3))\n",
    "print(np.argmax(prediction))"
   ]
  },
  {
   "cell_type": "code",
   "execution_count": null,
   "id": "4510842b",
   "metadata": {},
   "outputs": [],
   "source": []
  }
 ],
 "metadata": {
  "kernelspec": {
   "display_name": "Python 3.10.1 64-bit",
   "language": "python",
   "name": "python3"
  },
  "language_info": {
   "codemirror_mode": {
    "name": "ipython",
    "version": 3
   },
   "file_extension": ".py",
   "mimetype": "text/x-python",
   "name": "python",
   "nbconvert_exporter": "python",
   "pygments_lexer": "ipython3",
   "version": "3.10.1"
  },
  "vscode": {
   "interpreter": {
    "hash": "da0a2cba9512daaf87b7131116f7b4dd1b0f6e96b173a2f70ae8ed175131cbf7"
   }
  }
 },
 "nbformat": 4,
 "nbformat_minor": 5
}
